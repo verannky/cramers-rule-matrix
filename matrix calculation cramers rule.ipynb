{
 "cells": [
  {
   "cell_type": "code",
   "execution_count": 2,
   "id": "f2166253",
   "metadata": {},
   "outputs": [],
   "source": [
    "def inputmatrix():\n",
    "    while True:\n",
    "        try:\n",
    "            namafile = input(\"Masukkan nama file matrix, file txt: \")\n",
    "            with open(namafile, 'r') as file:\n",
    "                matrix_strings = file.readlines()\n",
    "                matrices = []\n",
    "                temp_matrix = []\n",
    "                for row in matrix_strings:\n",
    "                    if row.strip() == '':\n",
    "                        matrices.append(temp_matrix)\n",
    "                        break\n",
    "                    numbers = row.strip().split(' ')\n",
    "                    numbers = [float(x) for x in numbers]\n",
    "                    temp_matrix.append(numbers)\n",
    "            print(\"===  Matrix yang terbaca dalam file ===\")\n",
    "            for row in temp_matrix[:-1]:\n",
    "                print(row)\n",
    "            print()\n",
    "            matrix = temp_matrix[:-1]\n",
    "            break\n",
    "        except FileNotFoundError:\n",
    "            print(\"File tidak dapat ditemukan. Masukkan nama file yang benar.\")\n",
    "    n_row = len(matrix)\n",
    "    n_col = len(matrix[0])\n",
    "    if n_row > 10 or n_col > 10:\n",
    "        print(\"Dimensi matriks tidak lebih dari 10x10\")\n",
    "        return\n",
    "    if n_row != n_col:\n",
    "        print(\"Ordo matriks harus sama\")\n",
    "        return\n",
    "    n = n_row\n",
    "    print(\"===  Bentuk persamaan linear matriks ===\")\n",
    "    variables = [f\"x{i+1}\" for i in range(n)]\n",
    "    for i, row in enumerate(matrix):\n",
    "        equation = []\n",
    "        for j, item in enumerate(row):\n",
    "            if item != 0:\n",
    "                if item == 1:\n",
    "                    equation.append(f\"{variables[j]}\")\n",
    "                else:\n",
    "                    equation.append(f\"{item} {variables[j]}\")\n",
    "        if len(equation) > 0:\n",
    "            print(f\"{' + '.join(equation)} = {matrix[-1][i]}\")\n",
    "    print()\n",
    "    print(\"===  Hasil Perhitungan dengan Cramer's rule ===\")\n",
    "    print()\n",
    "    def read_matrix_from_file(namafile):\n",
    "        matrix = []\n",
    "        with open(namafile, \"r\") as file:\n",
    "            lines = file.readlines()\n",
    "            for line in lines[:-1]:\n",
    "                matrix.append([float(x) for x in line.split()])\n",
    "        result = [float(x) for x in lines[-1].split()]\n",
    "        return matrix, result\n",
    "    def laplace_expansion(matrix, i):\n",
    "        n = len(matrix)\n",
    "        if n == 1:\n",
    "            return matrix[0][0]\n",
    "        det = 0\n",
    "        sign = 1\n",
    "        for j in range(n):\n",
    "            sub_matrix  = [[matrix[k][l] for l in range(n) if l != j] for k in range(1, n)]\n",
    "            det += sign * matrix[0][j] * laplace_expansion(sub_matrix, i)\n",
    "            sign *= -1\n",
    "        return det\n",
    "    def cramers_rule(matrix, result):\n",
    "        n = len(matrix)\n",
    "        det_A = laplace_expansion(matrix, 0)\n",
    "        if det_A == 0:\n",
    "            return None\n",
    "        x = [0] * n\n",
    "        for k in range(n):\n",
    "            temp_matrix = [row.copy() for row in matrix]\n",
    "            for i in range(n):\n",
    "                temp_matrix[i][k] = result[i]\n",
    "            det_B = laplace_expansion(temp_matrix, 0)\n",
    "            x[k] = det_B / det_A\n",
    "        return x\n",
    "    matrix, result = read_matrix_from_file(namafile)\n",
    "    x = cramers_rule(matrix, result)\n",
    "    if x is None:\n",
    "        print(\"The matrix is singular, and thus has no inverse.\")\n",
    "    else:\n",
    "        print(\"The matrix has a unique solution:\", x)"
   ]
  },
  {
   "cell_type": "code",
   "execution_count": 1,
   "id": "f44f8950",
   "metadata": {},
   "outputs": [
    {
     "name": "stdout",
     "output_type": "stream",
     "text": [
      "Requirement already satisfied: networkx in /Users/nunky/opt/anaconda3/lib/python3.8/site-packages (2.5)\n",
      "Requirement already satisfied: decorator>=4.3.0 in /Users/nunky/opt/anaconda3/lib/python3.8/site-packages (from networkx) (5.0.6)\n",
      "Note: you may need to restart the kernel to use updated packages.\n"
     ]
    }
   ],
   "source": [
    "pip install networkx"
   ]
  },
  {
   "cell_type": "code",
   "execution_count": 4,
   "id": "092a937a",
   "metadata": {},
   "outputs": [
    {
     "name": "stdout",
     "output_type": "stream",
     "text": [
      "Masukkan nama file matrix, file txt: matrix7copy.txt\n",
      "===  Matrix yang terbaca dalam file ===\n",
      "[2.0, 3.0, 1.0, 4.0, 5.0, 7.0, 8.0]\n",
      "[1.0, 4.0, 7.0, 5.0, 3.0, 2.0, 9.0]\n",
      "[5.0, 3.0, 8.0, 9.0, 2.0, 1.0, 7.0]\n",
      "[3.0, 5.0, 4.0, 7.0, 9.0, 8.0, 6.0]\n",
      "[7.0, 9.0, 5.0, 6.0, 4.0, 3.0, 1.0]\n",
      "[8.0, 2.0, 9.0, 1.0, 7.0, 5.0, 4.0]\n",
      "[4.0, 6.0, 3.0, 8.0, 1.0, 9.0, 2.0]\n",
      "[3.0, 2.0, 3.0, 4.0, 5.0, 6.0, 7.0]\n",
      "\n",
      "Ordo matriks harus sama\n"
     ]
    }
   ],
   "source": [
    "inputmatrix()"
   ]
  }
 ],
 "metadata": {
  "kernelspec": {
   "display_name": "Python 3",
   "language": "python",
   "name": "python3"
  },
  "language_info": {
   "codemirror_mode": {
    "name": "ipython",
    "version": 3
   },
   "file_extension": ".py",
   "mimetype": "text/x-python",
   "name": "python",
   "nbconvert_exporter": "python",
   "pygments_lexer": "ipython3",
   "version": "3.8.8"
  }
 },
 "nbformat": 4,
 "nbformat_minor": 5
}
